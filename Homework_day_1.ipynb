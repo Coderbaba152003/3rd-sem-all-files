{
  "nbformat": 4,
  "nbformat_minor": 0,
  "metadata": {
    "colab": {
      "provenance": [],
      "authorship_tag": "ABX9TyO2vknLRYLYjQSuLU9e16g/",
      "include_colab_link": true
    },
    "kernelspec": {
      "name": "python3",
      "display_name": "Python 3"
    },
    "language_info": {
      "name": "python"
    }
  },
  "cells": [
    {
      "cell_type": "markdown",
      "metadata": {
        "id": "view-in-github",
        "colab_type": "text"
      },
      "source": [
        "<a href=\"https://colab.research.google.com/github/Coderbaba152003/3rd-sem-all-files/blob/main/Homework_day_1.ipynb\" target=\"_parent\"><img src=\"https://colab.research.google.com/assets/colab-badge.svg\" alt=\"Open In Colab\"/></a>"
      ]
    },
    {
      "cell_type": "code",
      "execution_count": 8,
      "metadata": {
        "colab": {
          "base_uri": "https://localhost:8080/"
        },
        "id": "ez8KmFqTWYNo",
        "outputId": "72162820-8219-40bb-b577-0f9d72dd5f11"
      },
      "outputs": [
        {
          "output_type": "stream",
          "name": "stdout",
          "text": [
            "Enter the Cost Price Of Bike: 950000\n",
            "Tax to be paid is: 190000.000\n"
          ]
        }
      ],
      "source": [
        "# Problem1 of day1\n",
        "cp = int (input(\"Enter the Cost Price Of Bike: \"))\n",
        "if(cp < 50_000):\n",
        "    print(\"Tax to be paid is: %.3f\"%(cp*(5.0/100)))\n",
        "elif(cp < 100_000):\n",
        "   print(\"Tax to be paid is: %.3f\"%(cp*(10/100)))\n",
        "else:\n",
        "    print(\"Tax to be paid is: %.3f\"%(cp*(20/100)))"
      ]
    },
    {
      "cell_type": "code",
      "source": [
        "# Problem 2 of day1\n",
        "numberOfBooks = int (input(\"Enter the number of books you purchased: \"))\n",
        "if(numberOfBooks == 0):\n",
        "    print(\"You earned 0 points\")\n",
        "elif(numberOfBooks == 2):\n",
        "    print(\"You earned 5 points\")\n",
        "elif(numberOfBooks == 4):\n",
        "    print(\"You earned 15 points\")\n",
        "else:\n",
        "    print(\"You earned 60 points\")\n",
        "\n"
      ],
      "metadata": {
        "id": "xOuaX-cQXn_6"
      },
      "execution_count": null,
      "outputs": []
    },
    {
      "cell_type": "code",
      "source": [
        "# Problem 4 of day1\n",
        "salary = float (input(\"Enter the Employee's Salary: \"))\n",
        "bonus = float (input(\"Enter the Employee's Bonus: \"))\n",
        "def calPfBasedOnSalary(salary):\n",
        "    return (salary*(5/100))\n",
        "\n",
        "def calPfBasedOnBonus(bonus):\n",
        "    return (bonus*(5/100))\n",
        "\n",
        "print(\"The PF based on salary is: %.3f\" %calPfBasedOnSalary(salary))\n",
        "print(\"The PF based on salary is: %.3f\" %calPfBasedOnBonus(bonus))"
      ],
      "metadata": {
        "colab": {
          "base_uri": "https://localhost:8080/"
        },
        "id": "UbIUePDYelMq",
        "outputId": "3afaf48e-b557-4129-fbaa-2a480ea2b5ad"
      },
      "execution_count": 20,
      "outputs": [
        {
          "output_type": "stream",
          "name": "stdout",
          "text": [
            "Enter the Employee's Salary: 40000\n",
            "Enter the Employee's Bonus: 14234\n",
            "The PF based on salary is: 2000.0000\n",
            "The PF based on salary is: 711.7000\n"
          ]
        }
      ]
    },
    {
      "cell_type": "code",
      "source": [
        "# Problem 5 of day1\n",
        "m1 = int (input(\"Enter the score of test1: \"))\n",
        "m2 = int (input(\"Enter the score of test2: \"))\n",
        "m3 = int (input(\"Enter the score of test3: \"))\n",
        "m4 = int (input(\"Enter the score of test4: \"))\n",
        "m5 = int (input(\"Enter the score of test5: \"))\n",
        "\n",
        "def cal_average(m1,m2,m3,m4,m5):\n",
        "    return (((m1+m2+m3+m4+m5)/500)*100)\n",
        "\n",
        "def determine_grade(m):\n",
        "    if(m < 60):\n",
        "        return 'F'\n",
        "    elif(m < 70):\n",
        "      return 'D'\n",
        "    elif(m < 80):\n",
        "      return 'C'\n",
        "    elif(m < 90):\n",
        "      return 'B'\n",
        "    else:\n",
        "      return 'A'\n",
        "print(\"The average is: %.4f\"%cal_average(m1,m2,m3,m4,m5))\n",
        "print(\"The Grade is: \",determine_grade(m3))"
      ],
      "metadata": {
        "id": "aK6ROb6Eay3Z"
      },
      "execution_count": null,
      "outputs": []
    },
    {
      "cell_type": "code",
      "source": [
        "# Problem 6 of day1\n",
        "import random\n",
        "count = 1;\n",
        "\n",
        "def randomNumberGenerator():\n",
        "    number =  random.randint(1,100)\n",
        "   # print(number)\n",
        "    return number\n",
        "\n",
        "def userInput():\n",
        "    enteredNumber = int (input(\"Enter the number to guess: \"))\n",
        "    return enteredNumber\n",
        "\n",
        "x = userInput()\n",
        "y = randomNumberGenerator()\n",
        "while(x != y):\n",
        "    if(x < y):\n",
        "        print(\"You Guess a small number\")\n",
        "    else:\n",
        "        print(\"You Guess a large number\")\n",
        "\n",
        "    x =  userInput()\n",
        "    count = count + 1;\n",
        "\n",
        "print(\"You guessed the number!!\")\n",
        "print(\"You win in \",count,\"steps\")"
      ],
      "metadata": {
        "colab": {
          "base_uri": "https://localhost:8080/"
        },
        "id": "_zpFYZfgdDxv",
        "outputId": "a5ba417f-74e5-4ce9-d612-d2986ea77f37"
      },
      "execution_count": 40,
      "outputs": [
        {
          "output_type": "stream",
          "name": "stdout",
          "text": [
            "Enter the number to guess: 45\n",
            "You Guess a small number\n",
            "Enter the number to guess: 59\n",
            "You Guess a small number\n",
            "Enter the number to guess: 87\n",
            "You Guess a small number\n",
            "Enter the number to guess: 100\n",
            "You Guess a large number\n",
            "Enter the number to guess: 95\n",
            "You Guess a small number\n",
            "Enter the number to guess: 98\n",
            "You Guess a large number\n",
            "Enter the number to guess: 97\n",
            "You guessed the number!!\n",
            "You win in  7 steps\n"
          ]
        }
      ]
    }
  ]
}